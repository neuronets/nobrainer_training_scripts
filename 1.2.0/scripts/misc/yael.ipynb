{
 "cells": [
  {
   "cell_type": "code",
   "execution_count": 51,
   "metadata": {},
   "outputs": [
    {
     "data": {
      "image/png": "[encoded data removed]",
      "text/plain": [
       "<Figure size 640x480 with 1 Axes>"
      ]
     },
     "metadata": {},
     "output_type": "display_data"
    }
   ],
   "source": [
    "from matplotlib import colors\n",
    "import numpy as np\n",
    "import matplotlib.pyplot as plt\n",
    "\n",
    "num_cycles = 10\n",
    "cmap = colors.ListedColormap(num_cycles * ['k','b','y','g','r'])\n",
    "ncolors = len(cmap.colors)\n",
    "\n",
    "vmin, vmax= 0, ncolors\n",
    "\n",
    "# plt.rcParams[\"axes.prop_cycle\"] = plt.cycler(\"color\",cmap.colors)\n",
    "\n",
    "# simply plotting the colormap\n",
    "# plt.figure()\n",
    "# plt.imshow(np.arange(len(cmap.colors))[None], cmap=cmap)\n",
    "# plt.gca().set_visible(False)\n",
    "# cbar = plt.colorbar(ticks=range(len(cmap.colors)), orientation='horizontal')\n",
    "# cbar.ax.tick_params(labelsize=5)\n",
    "# plt.show()\n",
    "\n",
    "# # case 01: test_vol has same number of labels as cmap (looks good with 1-1 mapping)\n",
    "# j = len(cmap.colors)  # 50\n",
    "# test_vol = np.ones((j,) * 3, dtype=np.uint8) * range(j)\n",
    "# plt.figure()\n",
    "# plt.imshow(test_vol[0], cmap=cmap, interpolation='nearest', vmin=0, vmax=j-1)\n",
    "# plt.show()\n",
    "# print([cmap.colors[i] for i in range(j)])\n",
    "\n",
    "# case 02: test_vol has less labels than cmap (cycles through colors but not 1-1 mapping)\n",
    "# j = 35\n",
    "# test_vol = np.ones((j,) * 3, dtype=np.uint8) * range(j)\n",
    "# plt.figure()\n",
    "# plt.imshow(test_vol[0], cmap=cmap, interpolation='nearest', vmin=0, vmax=len(cmap.colors) - 1)\n",
    "# plt.colorbar()\n",
    "# plt.show()\n",
    "# print([cmap.colors[i] for i in range(j)])\n",
    "\n",
    "\n",
    "# case 03: test_vol has more labels than cmap (cycles through colors but not 1-1 mapping)\n",
    "# you can ignore this case for now (if you want to)\n",
    "j = 75\n",
    "test_vol = np.ones((j,) * 3, dtype=np.uint8) * range(j)\n",
    "plt.figure()\n",
    "plt.imshow(test_vol[0], cmap=cmap, interpolation='nearest', vmin=vmin, vmax=len(cmap.colors) - 1)\n",
    "plt.show()\n",
    "\n",
    "# # case 04: test_vol with some missing labels\n",
    "# j = 25\n",
    "# col_vals = [0, 1, 3, 5, 7, 9, 11, 13, 15, 17, 19, 21, 23, 25, 27, 29, 31, 33, 35, 37, 39, 41, 43, 45, 70]\n",
    "# test_vol = np.ones((j,) * 3, dtype=np.uint8) * col_vals\n",
    "# plt.figure()\n",
    "# plt.imshow(test_vol[0], cmap=cmap, vmin=vmin, vmax=vmax)\n",
    "# plt.show()\n",
    "# print([cmap.colors[i] for i in col_vals])"
   ]
  },
  {
   "cell_type": "code",
   "execution_count": 7,
   "metadata": {},
   "outputs": [
    {
     "data": {
      "text/plain": [
       "ItemsView(<matplotlib.colors.ColorSequenceRegistry object at 0x2ae3256a8670>)"
      ]
     },
     "execution_count": 7,
     "metadata": {},
     "output_type": "execute_result"
    }
   ],
   "source": [
    "plt.color_sequences.items()"
   ]
  },
  {
   "cell_type": "code",
   "execution_count": 46,
   "metadata": {},
   "outputs": [
    {
     "data": {
      "text/plain": [
       "<matplotlib.colorbar.Colorbar at 0x2ae35ad6f1c0>"
      ]
     },
     "execution_count": 46,
     "metadata": {},
     "output_type": "execute_result"
    },
    {
     "data": {
      "image/png": "[encoded data removed]",
      "text/plain": [
       "<Figure size 640x480 with 2 Axes>"
      ]
     },
     "metadata": {},
     "output_type": "display_data"
    }
   ],
   "source": [
    "import numpy as np\n",
    "import matplotlib.pyplot as plt\n",
    "import matplotlib\n",
    "\n",
    "a = np.array([[0, 0, 0], [1, 1, 1], [2, 2, 2], [3, 3, 3], [7, 7, 7]])\n",
    "c_map = ['k', 'b', 'g', 'y', 'r', 'k', 'b', 'g', 'r']\n",
    "cm = matplotlib.colors.ListedColormap(c_map)\n",
    "plt.imshow(a, cmap=cm, vmin=0, vmax=len(c_map) - 1)\n",
    "plt.colorbar()"
   ]
  },
  {
   "cell_type": "code",
   "execution_count": null,
   "metadata": {},
   "outputs": [],
   "source": []
  }
 ],
 "metadata": {
  "kernelspec": {
   "display_name": "nobrainer_satra",
   "language": "python",
   "name": "python3"
  },
  "language_info": {
   "codemirror_mode": {
    "name": "ipython",
    "version": 3
   },
   "file_extension": ".py",
   "mimetype": "text/x-python",
   "name": "python",
   "nbconvert_exporter": "python",
   "pygments_lexer": "ipython3",
   "version": "3.10.13"
  }
 },
 "nbformat": 4,
 "nbformat_minor": 2
}
