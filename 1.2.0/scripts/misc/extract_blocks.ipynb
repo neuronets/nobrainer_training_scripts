{
 "cells": [
  {
   "cell_type": "code",
   "execution_count": 3,
   "metadata": {},
   "outputs": [
    {
     "name": "stderr",
     "output_type": "stream",
     "text": [
      "2024-06-04 16:59:48.838464: E tensorflow/compiler/xla/stream_executor/cuda/cuda_dnn.cc:9342] Unable to register cuDNN factory: Attempting to register factory for plugin cuDNN when one has already been registered\n",
      "2024-06-04 16:59:48.838513: E tensorflow/compiler/xla/stream_executor/cuda/cuda_fft.cc:609] Unable to register cuFFT factory: Attempting to register factory for plugin cuFFT when one has already been registered\n",
      "2024-06-04 16:59:48.838548: E tensorflow/compiler/xla/stream_executor/cuda/cuda_blas.cc:1518] Unable to register cuBLAS factory: Attempting to register factory for plugin cuBLAS when one has already been registered\n",
      "2024-06-04 16:59:48.848635: I tensorflow/core/platform/cpu_feature_guard.cc:182] This TensorFlow binary is optimized to use available CPU instructions in performance-critical operations.\n",
      "To enable the following instructions: AVX2 FMA, in other operations, rebuild TensorFlow with the appropriate compiler flags.\n"
     ]
    }
   ],
   "source": [
    "import glob\n",
    "import os\n",
    "\n",
    "import nibabel as nib\n",
    "import nobrainer\n",
    "import numpy as np\n",
    "from nobrainer.dataset import Dataset\n",
    "from nobrainer.volume import to_blocks\n",
    "from utils import label_mapping\n",
    "from utils.plot_utils import get_color_map, plot_tensor_slices\n",
    "import matplotlib.pyplot as plt"
   ]
  },
  {
   "cell_type": "code",
   "execution_count": 4,
   "metadata": {},
   "outputs": [
    {
     "name": "stdout",
     "output_type": "stream",
     "text": [
      "Using label mapping file: /om2/user/hgazula/nobrainer_training_scripts/csv-files/50-class-mapping.csv\n",
      "Conversion into 50 segmentation classes from freesurfer labels\n"
     ]
    },
    {
     "name": "stderr",
     "output_type": "stream",
     "text": [
      "2024-06-04 16:59:56.113294: I tensorflow/core/common_runtime/gpu/gpu_device.cc:1886] Created device /job:localhost/replica:0/task:0/device:GPU:0 with 31134 MB memory:  -> device: 0, name: Tesla V100-SXM2-32GB-LS, pci bus id: 0000:06:00.0, compute capability: 7.0\n"
     ]
    },
    {
     "name": "stdout",
     "output_type": "stream",
     "text": [
      "284 [0, 1, 2, 5, 6, 7, 8, 9, 10, 11, 12, 13, 14, 20, 21, 26, 28, 30, 32, 40, 44, 47, 49]\n"
     ]
    },
    {
     "data": {
      "image/png": "[encoded data removed]",
      "text/plain": [
       "<Figure size 640x480 with 1 Axes>"
      ]
     },
     "metadata": {},
     "output_type": "display_data"
    }
   ],
   "source": [
    "\n",
    "n_classes = 50\n",
    "label_map = label_mapping.get_label_mapping(n_classes)\n",
    "labels = sorted(\n",
    "    glob.glob(os.path.join(\"/om2/user/hgazula/nobrainer-data/datasets\", \"*aseg*\"))\n",
    ")\n",
    "\n",
    "y_true = nib.load(labels[-1]).get_fdata()\n",
    "\n",
    "u, inv = np.unique(y_true, return_inverse=True)\n",
    "y_true = np.array([label_map.get(x, 0) for x in u])[inv].reshape(y_true.shape)\n",
    "\n",
    "blocks = to_blocks(y_true, block_shape=(32, 32, 32))\n",
    "\n",
    "axis = 0\n",
    "os.makedirs(f\"eval_slice_plots{axis}\", exist_ok=True)\n",
    "cmap = get_color_map(n_classes)\n",
    "for idx, block in enumerate(blocks):\n",
    "    if idx != 284:\n",
    "        continue\n",
    "    print(idx, list(np.unique(block)))\n",
    "    fig = plt.figure()\n",
    "    plt.imshow(np.arange(50)[None], cmap=cmap)\n",
    "    plt.show()\n",
    "    break\n",
    "    # try:\n",
    "    #     plot_tensor_slices(\n",
    "    #         block.numpy(),\n",
    "    #         slice_dim=axis,\n",
    "    #         cmap=cmap,\n",
    "    #         out_name=f\"eval_slice_plots{axis}/label_{idx:03d}.png\",\n",
    "    #     )\n",
    "    #     print(f\"Plotting block {idx:03d}\")\n",
    "    # except ValueError:\n",
    "    #     pass"
   ]
  },
  {
   "cell_type": "code",
   "execution_count": 43,
   "metadata": {},
   "outputs": [
    {
     "name": "stdout",
     "output_type": "stream",
     "text": [
      "4193 [ 0  1  2  5  9 12 14 28 40]\n"
     ]
    },
    {
     "data": {
      "image/png": "[encoded data removed]",
      "text/plain": [
       "<Figure size 640x480 with 1 Axes>"
      ]
     },
     "metadata": {},
     "output_type": "display_data"
    }
   ],
   "source": [
    "for item in block:\n",
    "    fig = plt.figure()\n",
    "    print(np.sum(item), np.unique(item))\n",
    "    plt.imshow(item, cmap=cmap)\n",
    "    plt.show()\n",
    "    break"
   ]
  },
  {
   "cell_type": "code",
   "execution_count": null,
   "metadata": {},
   "outputs": [],
   "source": []
  },
  {
   "cell_type": "code",
   "execution_count": 72,
   "metadata": {},
   "outputs": [],
   "source": [
    "def plot_tensor_slices(\n",
    "    tensor,\n",
    "    slice_dim=0,\n",
    "    cmap=\"viridis\",\n",
    "    crop_percentile=10,\n",
    "    out_name=None,\n",
    "    crop_dims=None,\n",
    "):\n",
    "    # # Crop the tensor\n",
    "    # if not crop_dims:\n",
    "    #     cropped_tensor, [min_z, max_z, min_x, max_x, min_y, max_y] = crop_tensor(\n",
    "    #         tensor, percentile=crop_percentile\n",
    "    #     )\n",
    "    #     crop_dims = [min_z, max_z, min_x, max_x, min_y, max_y]\n",
    "    # else:\n",
    "    #     [min_z, max_z, min_x, max_x, min_y, max_y] = crop_dims\n",
    "    #     cropped_tensor = tensor[min_z : max_z + 1, min_y : max_y + 1, min_x : max_x + 1]\n",
    "\n",
    "    cropped_tensor = tensor\n",
    "    # Determine the dimensions of the cropped tensor\n",
    "    dim0, dim1, dim2 = cropped_tensor.shape\n",
    "\n",
    "    fig = plt.figure()\n",
    "    plt.imshow(np.arange(50)[None], cmap=cmap)\n",
    "    plt.show()\n",
    "\n",
    "    # Determine the slicing dimensions based on the specified slice_dim\n",
    "    if slice_dim == 0:\n",
    "        num_slices = dim0\n",
    "        slice_shape = (dim1, dim2)\n",
    "    elif slice_dim == 1:\n",
    "        num_slices = dim1\n",
    "        slice_shape = (dim0, dim2)\n",
    "    elif slice_dim == 2:\n",
    "        num_slices = dim2\n",
    "        slice_shape = (dim0, dim1)\n",
    "    else:\n",
    "        raise ValueError(\"Invalid slice_dim. Must be 0, 1, or 2.\")\n",
    "\n",
    "    # Calculate the grid dimensions\n",
    "    grid_size = int(np.ceil(np.sqrt(num_slices)))\n",
    "\n",
    "    # Create a larger matrix to hold the slices\n",
    "    R = np.zeros((grid_size * slice_shape[0], grid_size * slice_shape[1]))\n",
    "\n",
    "    # Iterate over the slices and place them in the larger matrix\n",
    "    for i in range(grid_size):\n",
    "        for j in range(grid_size):\n",
    "            slice_index = i * grid_size + j\n",
    "            if slice_index < num_slices:\n",
    "                if slice_dim == 0:\n",
    "                    slice_data = cropped_tensor[slice_index, :, :]\n",
    "                elif slice_dim == 1:\n",
    "                    slice_data = cropped_tensor[:, slice_index, :]\n",
    "                else:  # slice_dim == 2\n",
    "                    slice_data = cropped_tensor[:, :, slice_index]\n",
    "                R[\n",
    "                    i * slice_shape[0] : (i + 1) * slice_shape[0],\n",
    "                    j * slice_shape[1] : (j + 1) * slice_shape[1],\n",
    "                ] = slice_data\n",
    "                break\n",
    "\n",
    "    # Plot the larger matrix\n",
    "    # plt.figure(figsize=(10, 10))\n",
    "    plt.imshow(R[:32*4, :], cmap=cmap) #, interpolation=\"nearest\")\n",
    "    plt.axis(\"off\")\n",
    "    plt.tight_layout()\n",
    "    # plt.savefig(out_name, dpi=600)\n",
    "    plt.show()\n",
    "    # plt.close()\n",
    "\n",
    "    return crop_dims, R.astype(np.uint8)"
   ]
  },
  {
   "cell_type": "code",
   "execution_count": 73,
   "metadata": {},
   "outputs": [
    {
     "data": {
      "image/png": "[encoded data removed]",
      "text/plain": [
       "<Figure size 640x480 with 1 Axes>"
      ]
     },
     "metadata": {},
     "output_type": "display_data"
    },
    {
     "data": {
      "image/png": "[encoded data removed]",
      "text/plain": [
       "<Figure size 640x480 with 1 Axes>"
      ]
     },
     "metadata": {},
     "output_type": "display_data"
    }
   ],
   "source": [
    "_, R = plot_tensor_slices(block, slice_dim=0, cmap=cmap)"
   ]
  },
  {
   "cell_type": "code",
   "execution_count": 45,
   "metadata": {},
   "outputs": [
    {
     "name": "stdout",
     "output_type": "stream",
     "text": [
      "[[5 5 5 ... 2 2 2]\n",
      " [5 5 5 ... 2 2 2]\n",
      " [5 5 5 ... 2 2 2]\n",
      " ...\n",
      " [9 9 9 ... 0 0 0]\n",
      " [9 9 9 ... 0 0 0]\n",
      " [9 9 9 ... 0 0 0]]\n"
     ]
    },
    {
     "data": {
      "image/png": "[encoded data removed]",
      "text/plain": [
       "<Figure size 640x480 with 1 Axes>"
      ]
     },
     "metadata": {},
     "output_type": "display_data"
    }
   ],
   "source": [
    "plt.imshow(R[:32, :32], cmap=cmap)\n",
    "print(R[:32, :32])"
   ]
  },
  {
   "cell_type": "code",
   "execution_count": null,
   "metadata": {},
   "outputs": [],
   "source": []
  }
 ],
 "metadata": {
  "kernelspec": {
   "display_name": "nobrainer_satra",
   "language": "python",
   "name": "python3"
  },
  "language_info": {
   "codemirror_mode": {
    "name": "ipython",
    "version": 3
   },
   "file_extension": ".py",
   "mimetype": "text/x-python",
   "name": "python",
   "nbconvert_exporter": "python",
   "pygments_lexer": "ipython3",
   "version": "3.10.13"
  }
 },
 "nbformat": 4,
 "nbformat_minor": 2
}
